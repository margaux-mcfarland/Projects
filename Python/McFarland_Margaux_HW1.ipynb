{
 "cells": [
  {
   "cell_type": "markdown",
   "metadata": {},
   "source": [
    "<a id='top'></a>\n",
    "\n",
    "# CSCI3022 F20\n",
    "# Homework 1: Data Cleaning and Exploratory Data Analysis \n",
    "***\n",
    "\n",
    "**Name**: ____Margaux McFarland____________________________________________________________________\n",
    "\n",
    "***\n",
    "\n",
    "This assignment is due on Canvas by **MIDNIGHT on Friday September 4**. Your solutions to theoretical questions should be done in Markdown directly below the associated question.  Your solutions to computational questions should include any specified Python code and results as well as written commentary on your conclusions.  Remember that you are encouraged to discuss the problems with your classmates, but **you must write all code and solutions on your own**.\n",
    "\n",
    "**NOTES**: \n",
    "\n",
    "- Any relevant data sets should be available on Canvas. To make life easier on the graders if they need to run your code, do not change the relative path names here. Instead, move the files around on your computer.\n",
    "- If you're not familiar with typesetting math directly into Markdown then by all means, do your work on paper first and then typeset it later.  Remember that there is a [reference guide](https://math.meta.stackexchange.com/questions/5020/mathjax-basic-tutorial-and-quick-reference) linked on Canvas on writing math in Markdown. **All** of your written commentary, justifications and mathematical work should be in Markdown.\n",
    "- Because you can technically evaluate notebook cells is a non-linear order, it's a good idea to do Kernel $\\rightarrow$ Restart & Run All as a check before submitting your solutions.  That way if we need to run your code you will know that it will work as expected. \n",
    "- It is **bad form** to make your reader interpret numerical output from your code.  If a question asks you to compute some value from the data you should show your code output **AND** write a summary of the results in Markdown directly below your code. \n",
    "- 95 points of this assignment are in problems.  The remaining 5 are for neatness, style, and overall exposition of both code and text.\n",
    "- This probably goes without saying, but... For any question that asks you to calculate something, you **must show all work and justify your answers to receive credit**. Sparse or nonexistent work will receive sparse or nonexistent credit. \n",
    "\n",
    "---\n",
    "**Shortcuts:**  [Problem 1](#p1) | [Problem 2](#p2) | [Problem 3](#p3) | [Problem 4](#p4) |\n",
    "---"
   ]
  },
  {
   "cell_type": "code",
   "execution_count": 29,
   "metadata": {},
   "outputs": [],
   "source": [
    "import pandas as pd\n",
    "import numpy as np\n",
    "import matplotlib.pylab as plt\n",
    "%matplotlib inline"
   ]
  },
  {
   "cell_type": "markdown",
   "metadata": {},
   "source": [
    "[Back to top](#top)\n",
    "\n",
    "<br>\n",
    "\n",
    "<a/ id='p1'></a>\n",
    "\n",
    "### (20 points) Problem 1: Theory (Sampling)\n",
    "***\n",
    "\n",
    "<img style=\"float: left; width: 200px; padding: 3mm;\" src=\"https://upload.wikimedia.org/wikipedia/commons/5/57/Acme_ballot_box_-_Smithsonian.jpg\" alt=\"A ballot box\"/>  \n",
    "You are the head of a news outlet on election day. You have embedded journalists in key U.S. States in order sample voters at different polling stations in the states. Once your journalists choose a polling station, they monitor the station for the election day. The journalists then report back the number of votes for each candidate, which is recorded in a special App on your phone, called Hippocampus. Overall, your team collected data from 6 polling stations in Alaska, 36 polling stations in Ohio, 12 polling stations in Colorado, 6 polling stations in Iowa, and 42 polling stations from California.\n",
    "\n",
    "You want to get a sense of the average amount of votes for each candidate per polling station, so you use the Hippocampus app to randomly choose 1 polling station in Alaska, 6 polling stations in Ohio, 2 polling stations in Colorado, 1 polling station in Iowa, and 7 polling stations from California.\n",
    "\n",
    "$$ \\quad $$\n",
    "    \n",
    "**Part A:** Identify the following: \n",
    "\n",
    "- the population \n",
    "- the sample frame \n",
    "- the sample \n",
    "- the type of sample \n",
    "- the quantity of interest"
   ]
  },
  {
   "cell_type": "markdown",
   "metadata": {},
   "source": [
    "**Typeset your solution to part A in this cell or cells**\n",
    "The population is voters from various polling stations in Alaska, Ohio, Colorado, Iowa, and California. 6 + 36 + 12 + 6 + 42 = 102 polling stations.\n",
    "\n",
    "\n",
    "The sample frame are the polling stations from each state. \n",
    "\n",
    "\n",
    "The sample is some of the voters from the polling stations in Alaska, Ohio, Colorado, Iowa, and California. 1 + 6 + 2 + 1 + 7 = 17 polling stations\n",
    "\n",
    "\n",
    "The type of sample used was a statified sample where polling stations were randomly selected from each state based on their prevelance or the amount of polling stations selected from each state compared to the total. In this case 1/6 of the total polling stations from each state were randomly selected. \n",
    "\n",
    "\n",
    "The quantity of interest is votes."
   ]
  },
  {
   "cell_type": "markdown",
   "metadata": {},
   "source": [
    "**Part B:** You repeat your sampling, again using the Hippocampus app. Now, you order the stations alphabetically by State and choose every 3rd data value. \n",
    "    \n",
    "Identify the following: \n",
    "\n",
    "- the population \n",
    "- the sample frame \n",
    "- the sample \n",
    "- the type of sample \n",
    "- the quantity of interest"
   ]
  },
  {
   "cell_type": "markdown",
   "metadata": {},
   "source": [
    "**Typeset your solution to part B in this cell or cells**\n",
    "The population is voters from various polling stations in Alaska, Ohio, Colorado, Iowa, and California. 6 + 36 + 12 + 6 + 42 = 102 polling stations. \\\n",
    "The sample frame is the polling stations from each state. \\\n",
    "The sample is now every third voter from the polling stations in Alaska, Ohio, Colorado, Iowa, and California. 102/3 = 34 polling stations. \\\n",
    "The type of sample used was a systematic sample. The sample frame was put in an order (alphabetical), then every third sample from the sample frame was chosen. \\\n",
    "The quantity of interest is votes. "
   ]
  },
  {
   "cell_type": "markdown",
   "metadata": {},
   "source": [
    "[Back to top](#top)\n",
    "\n",
    "<br>\n",
    "\n",
    "<a/ id='p2'></a>\n",
    "\n",
    "### (20 points) Problem 2: Theory and Computation (Means and Medians)\n",
    "***\n",
    "\n",
    "A method to investigate the sensitivity of the sample mean and sample median to extreme outliers and changes in the dataset is to replace one or more elements in a given dataset by a number $y$ and investigate the effect when $y$ changes. To illustrate this, consider the following dataset:\n",
    " \n",
    "$$  4.2 \\quad 5.1 \\quad 5.0 \\quad y \\quad 3.8 \\quad 4.1 \\quad 5.5 \\quad 1.9 $$\n",
    "\n",
    "\n"
   ]
  },
  {
   "cell_type": "markdown",
   "metadata": {},
   "source": [
    "**Part A:** Compute the sample mean and sample median for $y=1.5$. Then compute both quantities again for $y=6$."
   ]
  },
  {
   "cell_type": "code",
   "execution_count": 30,
   "metadata": {},
   "outputs": [
    {
     "name": "stdout",
     "output_type": "stream",
     "text": [
      "Mean for y = 1.5: \n",
      "3.8875\n",
      "Median for y = 1.5: \n",
      "4.15\n",
      "Mean for y = 6: \n",
      "4.45\n",
      "Median for y = 6: \n",
      "4.6\n"
     ]
    }
   ],
   "source": [
    "y1 = 1.5\n",
    "y2 = 6\n",
    "data_set = [4.2, 5.1 , 5.0, y1, 3.8, 4.1, 5.5, 1.9]\n",
    "# compute the mean for y1\n",
    "mean = np.mean(data_set)\n",
    "print(\"Mean for y = 1.5: \")\n",
    "print(mean)\n",
    "#compute the median for y1\n",
    "median = np.median(data_set)\n",
    "print(\"Median for y = 1.5: \")\n",
    "print(median)\n",
    "\n",
    "data_set = [4.2, 5.1 , 5.0, y2, 3.8, 4.1, 5.5, 1.9]\n",
    "# compute the mean for y2\n",
    "mean = np.mean(data_set)\n",
    "print(\"Mean for y = 6: \")\n",
    "print(mean)\n",
    "#compute the median for y2\n",
    "median = np.median(data_set)\n",
    "print(\"Median for y = 6: \")\n",
    "print(median)\n",
    "\n"
   ]
  },
  {
   "cell_type": "markdown",
   "metadata": {},
   "source": [
    "The mean was calculated using the NumPy function which sums the data set and then divides the sum by the number of elements in the set. The median was calculated also using a NumPy function which sorts the data in ascending order then finds the middle value. In this case, there are an even number of values so the two middle values are averaged to find the median."
   ]
  },
  {
   "cell_type": "markdown",
   "metadata": {},
   "source": [
    "**Part B:** Is there a value for $y$ that would make the mean of the data equal to 6? If so, calculate the value of $y$ that makes the mean equal to 6. If not, clearly explain why not.\n",
    "    \n",
    "Is there a value for $y$ that would make the median of the data equal to 6? If so, calculate the values of $y$ that makes the median equal to 6. If not, clearly explain why not."
   ]
  },
  {
   "cell_type": "code",
   "execution_count": 31,
   "metadata": {},
   "outputs": [
    {
     "name": "stdout",
     "output_type": "stream",
     "text": [
      "18.400000000000006\n"
     ]
    }
   ],
   "source": [
    "# find y in reverse (given mean)\n",
    "mean = 6\n",
    "sum = mean * len(data_set)\n",
    "y = sum - np.sum(data_set[:3]) - np.sum(data_set[4:])\n",
    "print(y)\n",
    "\n"
   ]
  },
  {
   "cell_type": "markdown",
   "metadata": {},
   "source": [
    "It is possible for the mean to be 6. When reverse calculating the value to result in a mean of 6, y is found to be 18.4. /\n",
    "It is NOT possible for the median to be 6 because all the values in the data set are less than 6, so there is no way for 6 to be tbe middle value."
   ]
  },
  {
   "cell_type": "markdown",
   "metadata": {},
   "source": [
    "**Part C**: Compute the sample variance and the sample standard deviation for the original dataset given in part A, with $y=6$."
   ]
  },
  {
   "cell_type": "code",
   "execution_count": 32,
   "metadata": {},
   "outputs": [
    {
     "name": "stdout",
     "output_type": "stream",
     "text": [
      "Sample Variance: \n",
      "1.4175\n",
      "Standard Deviation: \n",
      "1.1905880899790657\n"
     ]
    }
   ],
   "source": [
    "#calculate the sample variance\n",
    "s2 = np.var(data_set)\n",
    "print(\"Sample Variance: \")\n",
    "print(s2)\n",
    "\n",
    "#calculate the standard deviation\n",
    "s = np.std(data_set)\n",
    "print(\"Standard Deviation: \")\n",
    "print(s)\n"
   ]
  },
  {
   "cell_type": "markdown",
   "metadata": {},
   "source": [
    "The sample variance and standard deviation were calculated using a NumPy function. The sample variance is the sum of the squared difference between each element and the mean all devided by the number of values minus 1. The standard deviation is the square root of the sample variance."
   ]
  },
  {
   "cell_type": "markdown",
   "metadata": {},
   "source": [
    "**Part D**: Compute the sample median for the following cases: \n",
    "- $y=5$ \n",
    "- $y=50$ \n",
    "- $y=4.36$ \n",
    "- $y \\to \\infty$ \n",
    "- $y \\to -\\infty$"
   ]
  },
  {
   "cell_type": "code",
   "execution_count": 33,
   "metadata": {},
   "outputs": [
    {
     "name": "stdout",
     "output_type": "stream",
     "text": [
      "4.6\n",
      "4.6\n",
      "4.28\n",
      "4.6\n",
      "4.15\n"
     ]
    }
   ],
   "source": [
    "# list of all possible y values\n",
    "y = [5, 50, 4.36, np.Inf, np.NINF]\n",
    "\n",
    "#calculate/print median for each y value\n",
    "for i in y:\n",
    "    data_set = [4.2, 5.1 , 5.0, i, 3.8, 4.1, 5.5, 1.9] \n",
    "    print(np.median(data_set))\n",
    "\n"
   ]
  },
  {
   "cell_type": "markdown",
   "metadata": {},
   "source": [
    "y = 5: median = 4.6\n",
    "y = 50: median = 4.6\n",
    "y = 4.28: median = 4.28\n",
    "y -> positive inf: median = 4.6\n",
    "y -> negative inf: median = 4.15"
   ]
  },
  {
   "cell_type": "markdown",
   "metadata": {},
   "source": [
    "**Part E**: Think about the previous parts, above, and describe in words or mathematical notation the answers to the following two questions:\n",
    "\n",
    "- By varying $y$, what is the set of all the possible values that the sample mean could take on?\n",
    "- By varying $y$, what is the set of all the possible values that the sample median could take on? Specifically, for what sets of $y$ values does the median take on its different possible values?"
   ]
  },
  {
   "cell_type": "markdown",
   "metadata": {},
   "source": [
    "By varying y, the median can either be less than or equal to 4.6 or greater than or equal to 4.15. One of the two median values will always be 4.2. The other value which will be averaged with 4.2 will either be the next highest (5.0) or the next lowest (4.1) or a value of y which is in between 4.1 and 5. When y is less than 4.1, the median will be 4.15. When y is greater than 5.0, the median will be 4.6. When y is in between 4.1 and 5.0, median = (y + 4.2)/2."
   ]
  },
  {
   "cell_type": "markdown",
   "metadata": {},
   "source": [
    "**Part F**: Describe in words or mathematical notation, what happens to the sample standard deviation when $y$ is varied in the following ways: \n",
    " \n",
    "- $y \\to \\infty$ \n",
    "- $y \\to \\bar{x}$"
   ]
  },
  {
   "cell_type": "markdown",
   "metadata": {},
   "source": [
    "When y approaches infinity, the sample variance will increase because there is a large outlier in the dataset now. This means the standard deviation also increases. At infinity, the standard deviaiton also equals infinty. When y is equal to the mean, one of the summed values will equal zero (y-mean)^2 = 0. This means the standard deviation would be less than it would be if y did not equal the mean. This makes sense because the standard deviation is a measure of how spread out the data set is from the average, so if a value is equal to the mean, then there is no deviation."
   ]
  },
  {
   "cell_type": "markdown",
   "metadata": {},
   "source": [
    "[Back to top](#top)\n",
    "<a/ id='p6'></a>\n",
    "\n",
    "## (20 pts) Problem 3: Computation (Scaling)\n",
    "***\n",
    "Consider the following 3 data sets:\n",
    "\n",
    "`A=[0,1,2,3,4,5,6,7,8,9,10,11,12]`\n",
    "\n",
    "`B=[0,0,0,12,7,18,47,25,0,13,0,35]`\n",
    "\n",
    "`C` is the random data set generated by using `np.random.exponential(scale=43, size=1000)`\n",
    "\n",
    "For each data set, perform the following computations in parts A, B, and C:\n",
    "\n",
    "**Part A:** Compute and print the mean and standard deviation of the data set."
   ]
  },
  {
   "cell_type": "code",
   "execution_count": 34,
   "metadata": {},
   "outputs": [
    {
     "name": "stdout",
     "output_type": "stream",
     "text": [
      "Mean of data set A: \n",
      "6.0\n",
      "Mean of data set B: \n",
      "13.083333333333334\n",
      "Mean of data set C: \n",
      "43.59159206957906\n",
      "~~~~~~~~~~~~~~~~~~~~~~~~~~\n",
      "Standard Deviation of data set A: \n",
      "3.7416573867739413\n",
      "Standard Deviation of data set B: \n",
      "14.974747261825675\n",
      "Standard Deviation of data set C: \n",
      "43.68048701270359\n"
     ]
    }
   ],
   "source": [
    "#data sets\n",
    "A=[0,1,2,3,4,5,6,7,8,9,10,11,12]\n",
    "\n",
    "B=[0,0,0,12,7,18,47,25,0,13,0,35]\n",
    "\n",
    "C = np.random.exponential(scale=43, size = 1000)\n",
    "\n",
    "#computations\n",
    "meanA = np.mean(A)\n",
    "print(\"Mean of data set A: \")\n",
    "print(meanA)\n",
    "meanB = np.mean(B)\n",
    "print(\"Mean of data set B: \")\n",
    "print(meanB)\n",
    "meanC = np.mean(C)\n",
    "print(\"Mean of data set C: \")\n",
    "print(meanC)\n",
    "print(\"~~~~~~~~~~~~~~~~~~~~~~~~~~\")\n",
    "stdA = np.std(A)\n",
    "print(\"Standard Deviation of data set A: \")\n",
    "print(stdA)\n",
    "stdB = np.std(B)\n",
    "print(\"Standard Deviation of data set B: \")\n",
    "print(stdB)\n",
    "stdC = np.std(C)\n",
    "print(\"Standard Deviation of data set C: \")\n",
    "print(stdC)"
   ]
  },
  {
   "cell_type": "markdown",
   "metadata": {},
   "source": [
    "**Part B:** Compute and print  the mean and standard deviation of the new data set formed by subtracting the original mean from each observation."
   ]
  },
  {
   "cell_type": "code",
   "execution_count": 35,
   "metadata": {},
   "outputs": [
    {
     "name": "stdout",
     "output_type": "stream",
     "text": [
      "Mean of new data set A: \n",
      "0.0\n",
      "Mean of new data set B: \n",
      "-1.1842378929335002e-15\n",
      "Mean of new data set C: \n",
      "5.684341886080802e-15\n",
      "~~~~~~~~~~~~~~~~~~~~~~~~~~\n",
      "Standard Deviation of new data set A: \n",
      "3.7416573867739413\n",
      "Standard Deviation of new data set B: \n",
      "14.974747261825675\n",
      "Standard Deviation of new data set C: \n",
      "43.680487012703594\n"
     ]
    }
   ],
   "source": [
    "#new data sets\n",
    "A_new = [i - meanA for i in A]\n",
    "B_new = [i - meanB for i in B]\n",
    "C_new = [i - meanC for i in C]\n",
    "\n",
    "#computations\n",
    "meanA_new = np.mean(A_new)\n",
    "print(\"Mean of new data set A: \")\n",
    "print(meanA_new)\n",
    "meanB_new = np.mean(B_new)\n",
    "print(\"Mean of new data set B: \")\n",
    "print(meanB_new)\n",
    "meanC_new = np.mean(C_new)\n",
    "print(\"Mean of new data set C: \")\n",
    "print(meanC_new)\n",
    "print(\"~~~~~~~~~~~~~~~~~~~~~~~~~~\")\n",
    "stdA_new = np.std(A_new)\n",
    "print(\"Standard Deviation of new data set A: \")\n",
    "print(stdA_new)\n",
    "stdB_new = np.std(B_new)\n",
    "print(\"Standard Deviation of new data set B: \")\n",
    "print(stdB_new)\n",
    "stdC_new = np.std(C_new)\n",
    "print(\"Standard Deviation of new data set C: \")\n",
    "print(stdC_new)"
   ]
  },
  {
   "cell_type": "markdown",
   "metadata": {},
   "source": [
    "The new data sets were created by subtracting each element is the list from the data set's mean (using for). Then the means and standard deviations were computed using the NumPys function."
   ]
  },
  {
   "cell_type": "markdown",
   "metadata": {},
   "source": [
    "**Part C:** Compute and print  the mean and standard deviation of the new data set formed by subtracting the original mean from each observation and then dividing by the original standard deviation."
   ]
  },
  {
   "cell_type": "code",
   "execution_count": 36,
   "metadata": {},
   "outputs": [
    {
     "name": "stdout",
     "output_type": "stream",
     "text": [
      "Mean of new data set A: \n",
      "-5.124106267500723e-17\n",
      "Mean of new data set B: \n",
      "-9.251858538542972e-17\n",
      "Mean of new data set C: \n",
      "1.3145040611561853e-16\n",
      "~~~~~~~~~~~~~~~~~~~~~~~~~~\n",
      "Standard Deviation of new data set A: \n",
      "1.0\n",
      "Standard Deviation of new data set B: \n",
      "1.0\n",
      "Standard Deviation of new data set C: \n",
      "1.0\n"
     ]
    }
   ],
   "source": [
    "#new data sets\n",
    "A_new2 = [(i-meanA)/stdA for i in A]\n",
    "B_new2 = [(i-meanB)/stdB for i in B]\n",
    "C_new2 = [(i-meanC)/stdC for i in C]\n",
    "\n",
    "#computations\n",
    "meanA_new2 = np.mean(A_new2)\n",
    "print(\"Mean of new data set A: \")\n",
    "print(meanA_new2)\n",
    "meanB_new2 = np.mean(B_new2)\n",
    "print(\"Mean of new data set B: \")\n",
    "print(meanB_new2)\n",
    "meanC_new2 = np.mean(C_new2)\n",
    "print(\"Mean of new data set C: \")\n",
    "print(meanC_new2)\n",
    "print(\"~~~~~~~~~~~~~~~~~~~~~~~~~~\")\n",
    "stdA_new2 = np.std(A_new2)\n",
    "print(\"Standard Deviation of new data set A: \")\n",
    "print(stdA_new2)\n",
    "stdB_new2 = np.std(B_new2)\n",
    "print(\"Standard Deviation of new data set B: \")\n",
    "print(stdB_new2)\n",
    "stdC_new2 = np.std(C_new2)\n",
    "print(\"Standard Deviation of new data set C: \")\n",
    "print(stdC_new2)"
   ]
  },
  {
   "cell_type": "markdown",
   "metadata": {},
   "source": [
    "**Part D:** Why might this result matter?"
   ]
  },
  {
   "cell_type": "markdown",
   "metadata": {},
   "source": [
    "This result matters because it results in a standard deviaiton of 1 and the mean is very close to zero. This is called a standard normal distribution."
   ]
  },
  {
   "cell_type": "markdown",
   "metadata": {},
   "source": [
    "**Part E:** Looking at each of the 3 data sets, come up with a real-world context where those kind of numbers might make for reasonable observations."
   ]
  },
  {
   "cell_type": "markdown",
   "metadata": {},
   "source": [
    "For the first data set, the numbers could be how many seconds have passed during a commercial, sampled every second. The second data set could be how many minutes each person in a group worked out for that day. The last data set could be how many seconds it took for a webpage to load for 1000 people."
   ]
  },
  {
   "cell_type": "markdown",
   "metadata": {},
   "source": [
    "[Back to top](#top)\n",
    "<a/ id='p4'></a>\n",
    "\n",
    "## (35 pts) Problem 4: Data (monthly patterns)\n",
    "***\n",
    "\n",
    "NOAA's Physical Sciences division (https://www.esrl.noaa.gov/psd) houses an enormous amount of weather data.  Load `BoulderPrecip.csv` from the course page for the last 120 years of monthly precipitation data from Boulder.  Let's take a look!"
   ]
  },
  {
   "cell_type": "code",
   "execution_count": 37,
   "metadata": {},
   "outputs": [
    {
     "data": {
      "text/html": [
       "<div>\n",
       "<style scoped>\n",
       "    .dataframe tbody tr th:only-of-type {\n",
       "        vertical-align: middle;\n",
       "    }\n",
       "\n",
       "    .dataframe tbody tr th {\n",
       "        vertical-align: top;\n",
       "    }\n",
       "\n",
       "    .dataframe thead th {\n",
       "        text-align: right;\n",
       "    }\n",
       "</style>\n",
       "<table border=\"1\" class=\"dataframe\">\n",
       "  <thead>\n",
       "    <tr style=\"text-align: right;\">\n",
       "      <th></th>\n",
       "      <th>Year</th>\n",
       "      <th>JAN</th>\n",
       "      <th>FEB</th>\n",
       "      <th>MAR</th>\n",
       "      <th>APR</th>\n",
       "      <th>MAY</th>\n",
       "      <th>JUN</th>\n",
       "      <th>JUL</th>\n",
       "      <th>AUG</th>\n",
       "      <th>SEP</th>\n",
       "      <th>OCT</th>\n",
       "      <th>NOV</th>\n",
       "      <th>DEC</th>\n",
       "      <th>YEAR TOTAL</th>\n",
       "    </tr>\n",
       "  </thead>\n",
       "  <tbody>\n",
       "    <tr>\n",
       "      <th>0</th>\n",
       "      <td>1900</td>\n",
       "      <td>0.4</td>\n",
       "      <td>1.06</td>\n",
       "      <td>0.75</td>\n",
       "      <td>9.18</td>\n",
       "      <td>1.84</td>\n",
       "      <td>0.49</td>\n",
       "      <td>0.48</td>\n",
       "      <td>0.22</td>\n",
       "      <td>1.54</td>\n",
       "      <td>0.13</td>\n",
       "      <td>0.19</td>\n",
       "      <td>0.61</td>\n",
       "      <td>16.89</td>\n",
       "    </tr>\n",
       "    <tr>\n",
       "      <th>1</th>\n",
       "      <td>1901</td>\n",
       "      <td>0.53</td>\n",
       "      <td>0.3</td>\n",
       "      <td>1.74</td>\n",
       "      <td>3.51</td>\n",
       "      <td>1.62</td>\n",
       "      <td>1.76</td>\n",
       "      <td>0.46</td>\n",
       "      <td>1.69</td>\n",
       "      <td>0.16</td>\n",
       "      <td>0.65</td>\n",
       "      <td>Tr</td>\n",
       "      <td>1.43</td>\n",
       "      <td>13.85</td>\n",
       "    </tr>\n",
       "    <tr>\n",
       "      <th>2</th>\n",
       "      <td>1902</td>\n",
       "      <td>0.37</td>\n",
       "      <td>0.48</td>\n",
       "      <td>1.48</td>\n",
       "      <td>1.01</td>\n",
       "      <td>2.32</td>\n",
       "      <td>1.46</td>\n",
       "      <td>1.26</td>\n",
       "      <td>0.53</td>\n",
       "      <td>5.46</td>\n",
       "      <td>1.44</td>\n",
       "      <td>1.29</td>\n",
       "      <td>1.34</td>\n",
       "      <td>18.44</td>\n",
       "    </tr>\n",
       "    <tr>\n",
       "      <th>3</th>\n",
       "      <td>1903</td>\n",
       "      <td>0.08</td>\n",
       "      <td>1.52</td>\n",
       "      <td>1.45</td>\n",
       "      <td>2.31</td>\n",
       "      <td>2.02</td>\n",
       "      <td>1.87</td>\n",
       "      <td>0.95</td>\n",
       "      <td>1.46</td>\n",
       "      <td>1.31</td>\n",
       "      <td>3.43</td>\n",
       "      <td>0.15</td>\n",
       "      <td>0.16</td>\n",
       "      <td>16.71</td>\n",
       "    </tr>\n",
       "    <tr>\n",
       "      <th>4</th>\n",
       "      <td>1904</td>\n",
       "      <td>0.09</td>\n",
       "      <td>0.31</td>\n",
       "      <td>2.37</td>\n",
       "      <td>1.45</td>\n",
       "      <td>5.35</td>\n",
       "      <td>2.72</td>\n",
       "      <td>1.05</td>\n",
       "      <td>1.00</td>\n",
       "      <td>1.6</td>\n",
       "      <td>1.06</td>\n",
       "      <td>0.08</td>\n",
       "      <td>0.7</td>\n",
       "      <td>17.78</td>\n",
       "    </tr>\n",
       "  </tbody>\n",
       "</table>\n",
       "</div>"
      ],
      "text/plain": [
       "   Year   JAN   FEB   MAR   APR   MAY   JUN   JUL   AUG   SEP   OCT   NOV  \\\n",
       "0  1900   0.4  1.06  0.75  9.18  1.84  0.49  0.48  0.22  1.54  0.13  0.19   \n",
       "1  1901  0.53   0.3  1.74  3.51  1.62  1.76  0.46  1.69  0.16  0.65    Tr   \n",
       "2  1902  0.37  0.48  1.48  1.01  2.32  1.46  1.26  0.53  5.46  1.44  1.29   \n",
       "3  1903  0.08  1.52  1.45  2.31  2.02  1.87  0.95  1.46  1.31  3.43  0.15   \n",
       "4  1904  0.09  0.31  2.37  1.45  5.35  2.72  1.05  1.00   1.6  1.06  0.08   \n",
       "\n",
       "    DEC YEAR TOTAL  \n",
       "0  0.61      16.89  \n",
       "1  1.43      13.85  \n",
       "2  1.34      18.44  \n",
       "3  0.16      16.71  \n",
       "4   0.7      17.78  "
      ]
     },
     "execution_count": 37,
     "metadata": {},
     "output_type": "execute_result"
    }
   ],
   "source": [
    "dfPrecip = pd.read_csv('./Data/BoulderPrecip.csv')\n",
    "dfPrecip.head()\n"
   ]
  },
  {
   "cell_type": "markdown",
   "metadata": {},
   "source": [
    "**Part A:** SCRUBBING!  Our data set is going to be tough to use for a few reasons.\n",
    "\n",
    "1) When the amount of precipitation was nonzero but too small to be recorded, this data set recorded `tr`.  Replace these with zeroes.\n",
    "\n",
    "2) 2020 isn't over yet!  We have one row at the bottom that isn't fully complete and NA values have been filled into the months that haven't happened yet.  This can wreak havoc on a lot of our methods!  Drop the 2020 data entirely.\n",
    "\n",
    "3) You may have some object typing issues relating to columns that contained both \"Tr\"/\"NA\" and numeric values.  Ensure that Python is treating all of your data as numeric!"
   ]
  },
  {
   "cell_type": "code",
   "execution_count": 38,
   "metadata": {},
   "outputs": [
    {
     "name": "stdout",
     "output_type": "stream",
     "text": [
      "Index(['Year', 'JAN', 'FEB', 'MAR', 'APR', 'MAY', 'JUN', 'JUL', 'AUG', 'SEP',\n",
      "       'OCT', 'NOV', 'DEC', 'YEAR TOTAL'],\n",
      "      dtype='object')\n",
      "[[1.900e+03 4.000e-01 1.060e+00 ... 1.900e-01 6.100e-01 1.689e+01]\n",
      " [1.901e+03 5.300e-01 3.000e-01 ... 0.000e+00 1.430e+00 1.385e+01]\n",
      " [1.902e+03 3.700e-01 4.800e-01 ... 1.290e+00 1.340e+00 1.844e+01]\n",
      " ...\n",
      " [2.017e+03 1.410e+00 7.300e-01 ... 5.700e-01 6.800e-01 2.189e+01]\n",
      " [2.018e+03 7.400e-01 1.040e+00 ... 1.190e+00 3.400e-01 1.901e+01]\n",
      " [2.019e+03 1.570e+00 7.400e-01 ... 2.380e+00 3.500e-01 2.104e+01]]\n"
     ]
    }
   ],
   "source": [
    "#replace tr values with zero using replace method\n",
    "print(dfPrecip.keys())\n",
    "dfPrecip = dfPrecip.replace(to_replace =['tr', 'Tr'], value = 0)\n",
    "\n",
    "#drop 2020 data (last row) using drop method\n",
    "dfPrecip = dfPrecip.drop([120], axis = 0)\n",
    "\n",
    "#ensure all is numeric\n",
    "dfPrecip = dfPrecip.astype(np.float)\n",
    "print(dfPrecip.values)\n",
    "        \n",
    "    \n",
    "    \n",
    "    \n",
    "\n",
    "\n",
    "        \n"
   ]
  },
  {
   "cell_type": "markdown",
   "metadata": {},
   "source": [
    "The data frame was printed before any changes were made and after in order to illustrate the correct changes were made: No 'Tr' or 'tr'entries, no 2020 data with NaN, and all entries are numeric. All of this was accomplished by using pandas dataframe functions."
   ]
  },
  {
   "cell_type": "markdown",
   "metadata": {},
   "source": [
    "**Part B:** Generate a series of 12 box plots with month as the x axis and precipitation on the y-axis."
   ]
  },
  {
   "cell_type": "code",
   "execution_count": 39,
   "metadata": {},
   "outputs": [
    {
     "data": {
      "image/png": "[encoded data removed]",
      "text/plain": [
       "<Figure size 432x432 with 1 Axes>"
      ]
     },
     "metadata": {
      "needs_background": "light"
     },
     "output_type": "display_data"
    },
    {
     "data": {
      "image/png": "[encoded data removed]",
      "text/plain": [
       "<Figure size 432x432 with 1 Axes>"
      ]
     },
     "metadata": {
      "needs_background": "light"
     },
     "output_type": "display_data"
    },
    {
     "data": {
      "image/png": "[encoded data removed]",
      "text/plain": [
       "<Figure size 432x432 with 1 Axes>"
      ]
     },
     "metadata": {
      "needs_background": "light"
     },
     "output_type": "display_data"
    },
    {
     "data": {
      "image/png": "[encoded data removed]",
      "text/plain": [
       "<Figure size 432x432 with 1 Axes>"
      ]
     },
     "metadata": {
      "needs_background": "light"
     },
     "output_type": "display_data"
    },
    {
     "data": {
      "image/png": "[encoded data removed]",
      "text/plain": [
       "<Figure size 432x432 with 1 Axes>"
      ]
     },
     "metadata": {
      "needs_background": "light"
     },
     "output_type": "display_data"
    },
    {
     "data": {
      "image/png": "[encoded data removed]",
      "text/plain": [
       "<Figure size 432x432 with 1 Axes>"
      ]
     },
     "metadata": {
      "needs_background": "light"
     },
     "output_type": "display_data"
    },
    {
     "data": {
      "image/png": "[encoded data removed]",
      "text/plain": [
       "<Figure size 432x432 with 1 Axes>"
      ]
     },
     "metadata": {
      "needs_background": "light"
     },
     "output_type": "display_data"
    },
    {
     "data": {
      "image/png": "[encoded data removed]",
      "text/plain": [
       "<Figure size 432x432 with 1 Axes>"
      ]
     },
     "metadata": {
      "needs_background": "light"
     },
     "output_type": "display_data"
    },
    {
     "data": {
      "image/png": "[encoded data removed]",
      "text/plain": [
       "<Figure size 432x432 with 1 Axes>"
      ]
     },
     "metadata": {
      "needs_background": "light"
     },
     "output_type": "display_data"
    },
    {
     "data": {
      "image/png": "[encoded data removed]",
      "text/plain": [
       "<Figure size 432x432 with 1 Axes>"
      ]
     },
     "metadata": {
      "needs_background": "light"
     },
     "output_type": "display_data"
    },
    {
     "data": {
      "image/png": "[encoded data removed]",
      "text/plain": [
       "<Figure size 432x432 with 1 Axes>"
      ]
     },
     "metadata": {
      "needs_background": "light"
     },
     "output_type": "display_data"
    },
    {
     "data": {
      "image/png": "[encoded data removed]",
      "text/plain": [
       "<Figure size 432x432 with 1 Axes>"
      ]
     },
     "metadata": {
      "needs_background": "light"
     },
     "output_type": "display_data"
    }
   ],
   "source": [
    "#months list\n",
    "months = [\"JAN\", \"FEB\", \"MAR\", \"APR\", \"MAY\", \"JUN\", \"JUL\", \"AUG\", \"SEP\", \"OCT\", \"NOV\", \"DEC\"]\n",
    "\n",
    "#loop through months to plot 12 box plot\n",
    "for i in months:\n",
    "    \n",
    "    \n",
    "    #initialize January figure   \n",
    "    fig, ax = plt.subplots(figsize=(6,6)) \n",
    "  \n",
    "    # Creating plot \n",
    "    plt.boxplot(dfPrecip[i]) \n",
    "    \n",
    "    # Set title and vertical axis label\n",
    "    ax.set_title('Monthly Precipitation ({})'.format(i), fontsize=18)\n",
    "    ax.set_ylabel(\"Precipitation\", fontsize=16)\n",
    "    ax.set_xlabel(i, fontsize=16)\n",
    "\n",
    "    # Make grid-lines lighter\n",
    "    ax.grid(alpha=0.25)\n",
    "  \n",
    "    # show plot \n",
    "    plt.show() \n",
    "\n",
    "\n",
    "    "
   ]
  },
  {
   "cell_type": "markdown",
   "metadata": {},
   "source": [
    "The above plots represent the precipitation recorded for each month over a span of years (1900-2019). There exist outliers for many of the plots and the plots are generally negatively skewed."
   ]
  },
  {
   "cell_type": "markdown",
   "metadata": {},
   "source": [
    "\n",
    "**Part C:** Spring is the wet season in Boulder.   But what is Spring?\n",
    "\n",
    "Atmospheric scientists love to group months seasonally, breaking the year into a Winter season including December, January, February; a Spring including March, April, and May; and so forth.\n",
    "\n",
    "The solar year, however, says that Spring runs from near the end of March until near the end of June: let's round at the nearest month and say that it includes the months of April, May and June.\n",
    "\n",
    "Generate a box plot with precipitation on the y-axis and the two possible monthly 'Spring' groupings (March-May versus April-June) as the x-axis."
   ]
  },
  {
   "cell_type": "code",
   "execution_count": 40,
   "metadata": {},
   "outputs": [
    {
     "name": "stdout",
     "output_type": "stream",
     "text": [
      "Index(['Year', 'JAN', 'FEB', 'MAR', 'APR', 'MAY', 'JUN', 'JUL', 'AUG', 'SEP',\n",
      "       'OCT', 'NOV', 'DEC', 'YEAR TOTAL'],\n",
      "      dtype='object')\n"
     ]
    },
    {
     "data": {
      "image/png": "[encoded data removed]",
      "text/plain": [
       "<Figure size 432x432 with 1 Axes>"
      ]
     },
     "metadata": {
      "needs_background": "light"
     },
     "output_type": "display_data"
    }
   ],
   "source": [
    "#March-May grouping - add the columns together\n",
    "spring1 = dfPrecip['MAR'] + dfPrecip['APR'] + dfPrecip['MAY']\n",
    "spring2 = dfPrecip['APR'] + dfPrecip['MAY'] + dfPrecip['JUN']\n",
    "\n",
    "print(dfPrecip.keys())\n",
    "#initialize January figure   \n",
    "fig, ax = plt.subplots(figsize=(6,6)) \n",
    "#boxplot\n",
    "ax.boxplot([spring1, spring2])\n",
    "\n",
    "# Set names of plots\n",
    "plt.xticks([1,2],[\"MAR-MAY\", \"ARP-JUN\"], rotation=0, fontsize=16)\n",
    "    \n",
    "# Set title and vertical axis label\n",
    "ax.set_title('Spring Precipitation', fontsize=18)\n",
    "ax.set_ylabel(\"Precipitation\", fontsize=16)\n",
    "ax.set_xlabel(\"Springs\" , fontsize=16)\n",
    "\n",
    "# Make grid-lines lighter\n",
    "ax.grid(alpha=0.25)\n",
    "  \n",
    "# show plot \n",
    "plt.show() \n",
    "\n",
    "\n",
    "#April-June grouping"
   ]
  },
  {
   "cell_type": "markdown",
   "metadata": {},
   "source": [
    "**Part D:** These might look pretty similar!  Highlight and comment on any differences by calculating the mean, standard deviation, and a Tukey five number summary of each classification of Spring.  Is there a reason here to favor one grouping over the other?"
   ]
  },
  {
   "cell_type": "code",
   "execution_count": 41,
   "metadata": {},
   "outputs": [
    {
     "name": "stdout",
     "output_type": "stream",
     "text": [
      "\t Spring 1 (Mar-May)\t Spring 2 (Apr-Jun)\n",
      "\n",
      "Mean\t 7.519\t\t\t 7.681916666666666\n",
      "\n",
      "Standard Deviation\t 2.7259008908371314\t\t 2.9275767270996593\n",
      "\n",
      "Min\t 2.21\t\t\t 3.12\n",
      "\n",
      "Q1\t 5.597499999999999\t\t 5.2225\n",
      "\n",
      "Median\t 7.1\t\t\t 7.38\n",
      "\n",
      "Q3\t 9.174999999999999\t\t 9.482499999999998\n",
      "\n",
      "Max\t 16.75\t\t\t 19.07\n",
      "\n"
     ]
    }
   ],
   "source": [
    "#Calculate the means\n",
    "mean_spg1 = np.mean(spring1)\n",
    "mean_spg2 = np.mean(spring2)\n",
    "\n",
    "#Calculate the standard deviations\n",
    "std_spg1 = np.std(spring1)\n",
    "std_spg2 = np.std(spring2)\n",
    "\n",
    "#Tukey 5 number summary (min, max, median, Q1, Q3)\n",
    "min_spg1 = np.min(spring1)\n",
    "max_spg1 = np.max(spring1)\n",
    "median_spg1 = np.median(spring1)\n",
    "q1_spg1 = np.quantile(spring1, 0.25)\n",
    "q3_spg1 = np.quantile(spring1, 0.75)\n",
    "min_spg2 = np.min(spring2)\n",
    "max_spg2 = np.max(spring2)\n",
    "median_spg2 = np.median(spring2)\n",
    "q1_spg2 = np.quantile(spring2, 0.25)\n",
    "q3_spg2 = np.quantile(spring2, 0.75)\n",
    "\n",
    "print(\"\\t Spring 1 (Mar-May)\\t Spring 2 (Apr-Jun)\\n\")\n",
    "print(\"Mean\\t {}\\t\\t\\t {}\\n\".format(mean_spg1, mean_spg2))\n",
    "print(\"Standard Deviation\\t {}\\t\\t {}\\n\".format(std_spg1, std_spg2))\n",
    "print(\"Min\\t {}\\t\\t\\t {}\\n\".format(min_spg1, min_spg2))\n",
    "print(\"Q1\\t {}\\t\\t {}\\n\".format(q1_spg1, q1_spg2))\n",
    "print(\"Median\\t {}\\t\\t\\t {}\\n\".format(median_spg1, median_spg2))\n",
    "print(\"Q3\\t {}\\t\\t {}\\n\".format(q3_spg1, q3_spg2))\n",
    "print(\"Max\\t {}\\t\\t\\t {}\\n\".format(max_spg1, max_spg2))\n"
   ]
  },
  {
   "cell_type": "markdown",
   "metadata": {},
   "source": [
    "Looking at the mean, it appears the two springs have very similar means. The standard deviations are also similar with the first spring's being slightly less. This means there is a smaller variance between in precipitation during these months. This makes it seem as if the first spring is a better grouping because the weather is more consistent/does not vary as much. Afterall, what usually defines the seasons is the weather. The max values appear to be the most different between the two springs. In this respect, the second spring would make more sense as the 'true' spring because apparently there is more rain in the spring than the summer. However, I think consistent weather is a more defining characteristic of one season, so I think the first spring (Mar-May) is preferred."
   ]
  },
  {
   "cell_type": "markdown",
   "metadata": {},
   "source": [
    "**Part E:** Create a density histogram of the September precipitation.  Classify and describe this histogram, including discussion of any skewness, multimodality, or outliers.  Find the data point associated with September, 2013, and recreate your histogram with that value in a different color or otherwise clearly marked."
   ]
  },
  {
   "cell_type": "code",
   "execution_count": 42,
   "metadata": {},
   "outputs": [
    {
     "name": "stdout",
     "output_type": "stream",
     "text": [
      "18.16\n"
     ]
    },
    {
     "data": {
      "text/plain": [
       "[<matplotlib.lines.Line2D at 0x101ea7730>]"
      ]
     },
     "execution_count": 42,
     "metadata": {},
     "output_type": "execute_result"
    },
    {
     "data": {
      "image/png": "[encoded data removed]",
      "text/plain": [
       "<Figure size 576x288 with 1 Axes>"
      ]
     },
     "metadata": {
      "needs_background": "light"
     },
     "output_type": "display_data"
    }
   ],
   "source": [
    "\n",
    "# Initialize figure and axis\n",
    "fig, ax = plt.subplots(figsize=(8,4))\n",
    "\n",
    "# Plot histogram \n",
    "dfPrecip.hist(column = 'SEP', ax=ax);\n",
    "\n",
    "# Add a title\n",
    "ax.set_title(\"September Precipitation 1990-2019\", fontsize=20)\n",
    "\n",
    "# Add axis labels \n",
    "ax.set_xlabel(\"Precipitation\", fontsize=16)\n",
    "ax.set_ylabel(\"Frequency\", fontsize=16)\n",
    "\n",
    "# Make the grid lines lighter and put them behind data \n",
    "ax.grid(alpha=0.25)\n",
    "ax.set_axisbelow(True)\n",
    "\n",
    "#mark september 2013 on histogram\n",
    "sep_2013 = dfPrecip.loc[113, 'SEP']\n",
    "print(sep_2013)\n",
    "plt.plot(sep_2013,1,'ro') \n"
   ]
  },
  {
   "cell_type": "markdown",
   "metadata": {},
   "source": [
    "The data point associated with September 2013 is clearly marked as the red dot in the last bin. The value (18.6) is also printed. The histogram shows a left skew as there appears to a higher frequency of smaller precipitation values, making the mean less than the median. There alsp appears to be only one large peak to the left making this histogram unimodal with an outlier all the way near 17.5 which probably represents the September 2013 point."
   ]
  },
  {
   "cell_type": "code",
   "execution_count": null,
   "metadata": {},
   "outputs": [],
   "source": []
  }
 ],
 "metadata": {
  "kernelspec": {
   "display_name": "Python 3",
   "language": "python",
   "name": "python3"
  },
  "language_info": {
   "codemirror_mode": {
    "name": "ipython",
    "version": 3
   },
   "file_extension": ".py",
   "mimetype": "text/x-python",
   "name": "python",
   "nbconvert_exporter": "python",
   "pygments_lexer": "ipython3",
   "version": "3.8.3"
  }
 },
 "nbformat": 4,
 "nbformat_minor": 4
}
